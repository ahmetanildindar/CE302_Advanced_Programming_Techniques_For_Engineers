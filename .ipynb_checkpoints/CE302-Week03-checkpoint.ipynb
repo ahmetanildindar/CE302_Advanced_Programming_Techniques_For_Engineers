{
 "cells": [
  {
   "cell_type": "markdown",
   "metadata": {},
   "source": [
    "# CE302 Advanced Programming Techniques for Engineers\n",
    "\n",
    "Week 03\n",
    "\n",
    "---\n",
    "\n",
    "Dr. Ahmet Anıl Dindar (adindar@gtu.edu.tr) | TA Fırat Bezir (fbezir@gtu.edu.tr)"
   ]
  },
  {
   "cell_type": "markdown",
   "metadata": {},
   "source": [
    "## place the topics\n",
    "--- "
   ]
  }
 ],
 "metadata": {
  "kernelspec": {
   "display_name": "Python 3",
   "language": "python",
   "name": "python3"
  },
  "language_info": {
   "codemirror_mode": {
    "name": "ipython",
    "version": 3
   },
   "file_extension": ".py",
   "mimetype": "text/x-python",
   "name": "python",
   "nbconvert_exporter": "python",
   "pygments_lexer": "ipython3",
   "version": "3.8.5"
  },
  "toc-autonumbering": false,
  "toc-showcode": false,
  "toc-showmarkdowntxt": true
 },
 "nbformat": 4,
 "nbformat_minor": 4
}
