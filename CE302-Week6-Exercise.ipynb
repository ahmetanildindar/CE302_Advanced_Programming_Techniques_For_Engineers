{
 "cells": [
  {
   "cell_type": "markdown",
   "metadata": {},
   "source": [
    "### Motivation\n",
    "Storing data and the results of your programming efforts is important for working over multiple sessions and sharing your results with collaborators. Since when Python closes, all the variables in the memory are lost, data must be stored in some other way. Sometimes data must also be readable by or written in a form that can be read by other programs.\n",
    "\n",
    "This chapter shows you how you can use Python to read and write data in several common formats."
   ]
  },
  {
   "cell_type": "markdown",
   "metadata": {},
   "source": [
    "### 1. TXT Files\n",
    "\n",
    "So far, we used print function to display the data to the screen. But there are many ways to store data onto your disk and share it with other program or colleagues. For example, if I have some strings in this notebook, but I want to use them in another notebook, the easiest way is to store the strings into a text file, and then open it in another notebook. A text file, many times with an extension .txt, is a file containing only plain text. However, programs you write and programs that read your text file will usually expect the text file to be in a certain format; that is, organized in a specific way.\n",
    "\n"
   ]
  },
  {
   "cell_type": "code",
   "execution_count": null,
   "metadata": {},
   "outputs": [],
   "source": [
    "# To work with text files, we need to use open function which returns a file object. \n",
    "# It is commonly used with two arguments:\n",
    "\n",
    "f = open(filename, mode) "
   ]
  },
  {
   "cell_type": "markdown",
   "metadata": {},
   "source": [
    "f is the returned file object. The filename is a string where the location of the file you want to open, and the mode is another string containing a few characters describing the way in which the file will be used, the common modes are:\n",
    "\n",
    "* ‘r’, this is the default mode, which opens a file for reading\n",
    "\n",
    "* ‘w’, this mode opens a file for writing, if the file does not exist, it creates a new file.\n",
    "\n",
    "* ‘a’, open a file in append mode, append data to end of file. If the file does not exist, it creates a new file.\n",
    "\n",
    "* ‘b’, open a file in binary mode.\n",
    "\n",
    "* ‘r+’, open a file (do not create) for reading and writing.\n",
    "\n",
    "* ‘w+’, open or create a file for writing and reading, discard existing contents.\n",
    "\n",
    "* ‘a+’, open or create file for reading and writing, and append data to end of file"
   ]
  },
  {
   "cell_type": "code",
   "execution_count": 14,
   "metadata": {},
   "outputs": [
    {
     "name": "stdout",
     "output_type": "stream",
     "text": [
      "My name's Firat\n"
     ]
    }
   ],
   "source": [
    "print('My name\\'s Firat')"
   ]
  },
  {
   "cell_type": "code",
   "execution_count": 24,
   "metadata": {},
   "outputs": [],
   "source": [
    "# Write a file\n",
    "# TRY IT! Create a text file called test.txt and write a couple lines in it.\n",
    "\n",
    "f = open('./CodeOutputs/test.txt', 'w')\n",
    "for i in range(5):\n",
    "    f.write(f\"This is line {i}\\n\")\n",
    "    \n",
    "f.close()"
   ]
  },
  {
   "cell_type": "markdown",
   "metadata": {},
   "source": [
    "NOTE! It is good practice to close the file using f.close() in the end. If you do not close them yourself, Python will eventually close them for you. But sometimes, when writing to a file, the data may not written to disk until you close the file. Therefore, the longer you keep the file open, the greater chances you will lose your data.\n"
   ]
  },
  {
   "cell_type": "code",
   "execution_count": 25,
   "metadata": {},
   "outputs": [],
   "source": [
    "# Append to a file\n",
    "# Now, let’s append some string to the test.txt file. It is very similar to how we write the file, with only one difference - change the mode to ‘a’ instead.\n",
    "\n",
    "f = open('./CodeOutputs/test.txt', 'a')\n",
    "f.write(f\"This is another line\\n\")\n",
    "f.close()\n",
    "\n"
   ]
  },
  {
   "cell_type": "code",
   "execution_count": 26,
   "metadata": {},
   "outputs": [
    {
     "name": "stdout",
     "output_type": "stream",
     "text": [
      "This is line 0\n",
      "This is line 1\n",
      "This is line 2\n",
      "This is line 3\n",
      "This is line 4\n",
      "This is another line\n",
      "\n"
     ]
    }
   ],
   "source": [
    "# Read a file\n",
    "# We could read a file from disk and store all the contents to a variable. \n",
    "# Let’s read in the test.txt file we created above and store all the contents in the file to a variable content.\n",
    "\n",
    "f = open('./CodeOutputs/test.txt', 'r')\n",
    "content = f.read()\n",
    "f.close()\n",
    "print(content)"
   ]
  },
  {
   "cell_type": "code",
   "execution_count": 27,
   "metadata": {},
   "outputs": [
    {
     "data": {
      "text/plain": [
       "str"
      ]
     },
     "execution_count": 27,
     "metadata": {},
     "output_type": "execute_result"
    }
   ],
   "source": [
    "type(content)"
   ]
  },
  {
   "cell_type": "code",
   "execution_count": 28,
   "metadata": {},
   "outputs": [
    {
     "name": "stdout",
     "output_type": "stream",
     "text": [
      "['This is line 0\\n', 'This is line 1\\n', 'This is line 2\\n', 'This is line 3\\n', 'This is line 4\\n', 'This is another line\\n']\n"
     ]
    }
   ],
   "source": [
    "# But sometimes we want to read in the contents in the files line by line and store it in a list. \n",
    "# We could use f.readlines() to achieve this.\n",
    "\n",
    "f = open('./CodeOutputs/test.txt', 'r')\n",
    "contents = f.readlines()\n",
    "f.close()\n",
    "print(contents)"
   ]
  },
  {
   "cell_type": "code",
   "execution_count": 29,
   "metadata": {},
   "outputs": [
    {
     "data": {
      "text/plain": [
       "list"
      ]
     },
     "execution_count": 29,
     "metadata": {},
     "output_type": "execute_result"
    }
   ],
   "source": [
    "type(contents)"
   ]
  },
  {
   "cell_type": "markdown",
   "metadata": {},
   "source": [
    "#### Dealing with numbers and arrays\n",
    "Since we are working with numerical methods later, and many times, we work with the numbers or arrays. We could use the above methods to save the numbers or arrays to a file and read it back to the memory. But it is not so convenient this way. Instead, commonly we use the numpy package to directly save/read an array. Let’s see an example.\n",
    "\n",
    "TRY IT! \n",
    "\n",
    "Store an array [[1.20, 2.20, 3.00], [4.14, 5.65, 6.42]] to a file named my_array.txt and read it back to a variable called my_arr."
   ]
  },
  {
   "cell_type": "code",
   "execution_count": 30,
   "metadata": {},
   "outputs": [
    {
     "data": {
      "text/plain": [
       "array([[1.2 , 2.2 , 3.  ],\n",
       "       [4.14, 5.65, 6.42]])"
      ]
     },
     "execution_count": 30,
     "metadata": {},
     "output_type": "execute_result"
    }
   ],
   "source": [
    "import numpy as np\n",
    "arr = np.array([[1.20, 2.20, 3.00], [4.14, 5.65, 6.42]])\n",
    "arr"
   ]
  },
  {
   "cell_type": "code",
   "execution_count": 31,
   "metadata": {},
   "outputs": [],
   "source": [
    "np.savetxt('./CodeOutputs/my_arr.txt', arr, fmt='%.2f', header = 'Col1 Col2 Col3')"
   ]
  },
  {
   "cell_type": "code",
   "execution_count": 32,
   "metadata": {},
   "outputs": [
    {
     "data": {
      "text/plain": [
       "\u001b[1;31mSignature:\u001b[0m\n",
       "\u001b[0mnp\u001b[0m\u001b[1;33m.\u001b[0m\u001b[0msavetxt\u001b[0m\u001b[1;33m(\u001b[0m\u001b[1;33m\n",
       "\u001b[0m    \u001b[0mfname\u001b[0m\u001b[1;33m,\u001b[0m\u001b[1;33m\n",
       "\u001b[0m    \u001b[0mX\u001b[0m\u001b[1;33m,\u001b[0m\u001b[1;33m\n",
       "\u001b[0m    \u001b[0mfmt\u001b[0m\u001b[1;33m=\u001b[0m\u001b[1;34m'%.18e'\u001b[0m\u001b[1;33m,\u001b[0m\u001b[1;33m\n",
       "\u001b[0m    \u001b[0mdelimiter\u001b[0m\u001b[1;33m=\u001b[0m\u001b[1;34m' '\u001b[0m\u001b[1;33m,\u001b[0m\u001b[1;33m\n",
       "\u001b[0m    \u001b[0mnewline\u001b[0m\u001b[1;33m=\u001b[0m\u001b[1;34m'\\n'\u001b[0m\u001b[1;33m,\u001b[0m\u001b[1;33m\n",
       "\u001b[0m    \u001b[0mheader\u001b[0m\u001b[1;33m=\u001b[0m\u001b[1;34m''\u001b[0m\u001b[1;33m,\u001b[0m\u001b[1;33m\n",
       "\u001b[0m    \u001b[0mfooter\u001b[0m\u001b[1;33m=\u001b[0m\u001b[1;34m''\u001b[0m\u001b[1;33m,\u001b[0m\u001b[1;33m\n",
       "\u001b[0m    \u001b[0mcomments\u001b[0m\u001b[1;33m=\u001b[0m\u001b[1;34m'# '\u001b[0m\u001b[1;33m,\u001b[0m\u001b[1;33m\n",
       "\u001b[0m    \u001b[0mencoding\u001b[0m\u001b[1;33m=\u001b[0m\u001b[1;32mNone\u001b[0m\u001b[1;33m,\u001b[0m\u001b[1;33m\n",
       "\u001b[0m\u001b[1;33m)\u001b[0m\u001b[1;33m\u001b[0m\u001b[1;33m\u001b[0m\u001b[0m\n",
       "\u001b[1;31mDocstring:\u001b[0m\n",
       "Save an array to a text file.\n",
       "\n",
       "Parameters\n",
       "----------\n",
       "fname : filename or file handle\n",
       "    If the filename ends in ``.gz``, the file is automatically saved in\n",
       "    compressed gzip format.  `loadtxt` understands gzipped files\n",
       "    transparently.\n",
       "X : 1D or 2D array_like\n",
       "    Data to be saved to a text file.\n",
       "fmt : str or sequence of strs, optional\n",
       "    A single format (%10.5f), a sequence of formats, or a\n",
       "    multi-format string, e.g. 'Iteration %d -- %10.5f', in which\n",
       "    case `delimiter` is ignored. For complex `X`, the legal options\n",
       "    for `fmt` are:\n",
       "\n",
       "    * a single specifier, `fmt='%.4e'`, resulting in numbers formatted\n",
       "      like `' (%s+%sj)' % (fmt, fmt)`\n",
       "    * a full string specifying every real and imaginary part, e.g.\n",
       "      `' %.4e %+.4ej %.4e %+.4ej %.4e %+.4ej'` for 3 columns\n",
       "    * a list of specifiers, one per column - in this case, the real\n",
       "      and imaginary part must have separate specifiers,\n",
       "      e.g. `['%.3e + %.3ej', '(%.15e%+.15ej)']` for 2 columns\n",
       "delimiter : str, optional\n",
       "    String or character separating columns.\n",
       "newline : str, optional\n",
       "    String or character separating lines.\n",
       "\n",
       "    .. versionadded:: 1.5.0\n",
       "header : str, optional\n",
       "    String that will be written at the beginning of the file.\n",
       "\n",
       "    .. versionadded:: 1.7.0\n",
       "footer : str, optional\n",
       "    String that will be written at the end of the file.\n",
       "\n",
       "    .. versionadded:: 1.7.0\n",
       "comments : str, optional\n",
       "    String that will be prepended to the ``header`` and ``footer`` strings,\n",
       "    to mark them as comments. Default: '# ',  as expected by e.g.\n",
       "    ``numpy.loadtxt``.\n",
       "\n",
       "    .. versionadded:: 1.7.0\n",
       "encoding : {None, str}, optional\n",
       "    Encoding used to encode the outputfile. Does not apply to output\n",
       "    streams. If the encoding is something other than 'bytes' or 'latin1'\n",
       "    you will not be able to load the file in NumPy versions < 1.14. Default\n",
       "    is 'latin1'.\n",
       "\n",
       "    .. versionadded:: 1.14.0\n",
       "\n",
       "\n",
       "See Also\n",
       "--------\n",
       "save : Save an array to a binary file in NumPy ``.npy`` format\n",
       "savez : Save several arrays into an uncompressed ``.npz`` archive\n",
       "savez_compressed : Save several arrays into a compressed ``.npz`` archive\n",
       "\n",
       "Notes\n",
       "-----\n",
       "Further explanation of the `fmt` parameter\n",
       "(``%[flag]width[.precision]specifier``):\n",
       "\n",
       "flags:\n",
       "    ``-`` : left justify\n",
       "\n",
       "    ``+`` : Forces to precede result with + or -.\n",
       "\n",
       "    ``0`` : Left pad the number with zeros instead of space (see width).\n",
       "\n",
       "width:\n",
       "    Minimum number of characters to be printed. The value is not truncated\n",
       "    if it has more characters.\n",
       "\n",
       "precision:\n",
       "    - For integer specifiers (eg. ``d,i,o,x``), the minimum number of\n",
       "      digits.\n",
       "    - For ``e, E`` and ``f`` specifiers, the number of digits to print\n",
       "      after the decimal point.\n",
       "    - For ``g`` and ``G``, the maximum number of significant digits.\n",
       "    - For ``s``, the maximum number of characters.\n",
       "\n",
       "specifiers:\n",
       "    ``c`` : character\n",
       "\n",
       "    ``d`` or ``i`` : signed decimal integer\n",
       "\n",
       "    ``e`` or ``E`` : scientific notation with ``e`` or ``E``.\n",
       "\n",
       "    ``f`` : decimal floating point\n",
       "\n",
       "    ``g,G`` : use the shorter of ``e,E`` or ``f``\n",
       "\n",
       "    ``o`` : signed octal\n",
       "\n",
       "    ``s`` : string of characters\n",
       "\n",
       "    ``u`` : unsigned decimal integer\n",
       "\n",
       "    ``x,X`` : unsigned hexadecimal integer\n",
       "\n",
       "This explanation of ``fmt`` is not complete, for an exhaustive\n",
       "specification see [1]_.\n",
       "\n",
       "References\n",
       "----------\n",
       ".. [1] `Format Specification Mini-Language\n",
       "       <https://docs.python.org/library/string.html#format-specification-mini-language>`_,\n",
       "       Python Documentation.\n",
       "\n",
       "Examples\n",
       "--------\n",
       ">>> x = y = z = np.arange(0.0,5.0,1.0)\n",
       ">>> np.savetxt('test.out', x, delimiter=',')   # X is an array\n",
       ">>> np.savetxt('test.out', (x,y,z))   # x,y,z equal sized 1D arrays\n",
       ">>> np.savetxt('test.out', x, fmt='%1.4e')   # use exponential notation\n",
       "\u001b[1;31mFile:\u001b[0m      c:\\users\\frtbz\\anaconda3\\lib\\site-packages\\numpy\\lib\\npyio.py\n",
       "\u001b[1;31mType:\u001b[0m      function\n"
      ]
     },
     "metadata": {},
     "output_type": "display_data"
    }
   ],
   "source": [
    "?np.savetxt"
   ]
  },
  {
   "cell_type": "code",
   "execution_count": 34,
   "metadata": {},
   "outputs": [
    {
     "name": "stdout",
     "output_type": "stream",
     "text": [
      "Help on function savetxt in module numpy:\n",
      "\n",
      "savetxt(fname, X, fmt='%.18e', delimiter=' ', newline='\\n', header='', footer='', comments='# ', encoding=None)\n",
      "    Save an array to a text file.\n",
      "    \n",
      "    Parameters\n",
      "    ----------\n",
      "    fname : filename or file handle\n",
      "        If the filename ends in ``.gz``, the file is automatically saved in\n",
      "        compressed gzip format.  `loadtxt` understands gzipped files\n",
      "        transparently.\n",
      "    X : 1D or 2D array_like\n",
      "        Data to be saved to a text file.\n",
      "    fmt : str or sequence of strs, optional\n",
      "        A single format (%10.5f), a sequence of formats, or a\n",
      "        multi-format string, e.g. 'Iteration %d -- %10.5f', in which\n",
      "        case `delimiter` is ignored. For complex `X`, the legal options\n",
      "        for `fmt` are:\n",
      "    \n",
      "        * a single specifier, `fmt='%.4e'`, resulting in numbers formatted\n",
      "          like `' (%s+%sj)' % (fmt, fmt)`\n",
      "        * a full string specifying every real and imaginary part, e.g.\n",
      "          `' %.4e %+.4ej %.4e %+.4ej %.4e %+.4ej'` for 3 columns\n",
      "        * a list of specifiers, one per column - in this case, the real\n",
      "          and imaginary part must have separate specifiers,\n",
      "          e.g. `['%.3e + %.3ej', '(%.15e%+.15ej)']` for 2 columns\n",
      "    delimiter : str, optional\n",
      "        String or character separating columns.\n",
      "    newline : str, optional\n",
      "        String or character separating lines.\n",
      "    \n",
      "        .. versionadded:: 1.5.0\n",
      "    header : str, optional\n",
      "        String that will be written at the beginning of the file.\n",
      "    \n",
      "        .. versionadded:: 1.7.0\n",
      "    footer : str, optional\n",
      "        String that will be written at the end of the file.\n",
      "    \n",
      "        .. versionadded:: 1.7.0\n",
      "    comments : str, optional\n",
      "        String that will be prepended to the ``header`` and ``footer`` strings,\n",
      "        to mark them as comments. Default: '# ',  as expected by e.g.\n",
      "        ``numpy.loadtxt``.\n",
      "    \n",
      "        .. versionadded:: 1.7.0\n",
      "    encoding : {None, str}, optional\n",
      "        Encoding used to encode the outputfile. Does not apply to output\n",
      "        streams. If the encoding is something other than 'bytes' or 'latin1'\n",
      "        you will not be able to load the file in NumPy versions < 1.14. Default\n",
      "        is 'latin1'.\n",
      "    \n",
      "        .. versionadded:: 1.14.0\n",
      "    \n",
      "    \n",
      "    See Also\n",
      "    --------\n",
      "    save : Save an array to a binary file in NumPy ``.npy`` format\n",
      "    savez : Save several arrays into an uncompressed ``.npz`` archive\n",
      "    savez_compressed : Save several arrays into a compressed ``.npz`` archive\n",
      "    \n",
      "    Notes\n",
      "    -----\n",
      "    Further explanation of the `fmt` parameter\n",
      "    (``%[flag]width[.precision]specifier``):\n",
      "    \n",
      "    flags:\n",
      "        ``-`` : left justify\n",
      "    \n",
      "        ``+`` : Forces to precede result with + or -.\n",
      "    \n",
      "        ``0`` : Left pad the number with zeros instead of space (see width).\n",
      "    \n",
      "    width:\n",
      "        Minimum number of characters to be printed. The value is not truncated\n",
      "        if it has more characters.\n",
      "    \n",
      "    precision:\n",
      "        - For integer specifiers (eg. ``d,i,o,x``), the minimum number of\n",
      "          digits.\n",
      "        - For ``e, E`` and ``f`` specifiers, the number of digits to print\n",
      "          after the decimal point.\n",
      "        - For ``g`` and ``G``, the maximum number of significant digits.\n",
      "        - For ``s``, the maximum number of characters.\n",
      "    \n",
      "    specifiers:\n",
      "        ``c`` : character\n",
      "    \n",
      "        ``d`` or ``i`` : signed decimal integer\n",
      "    \n",
      "        ``e`` or ``E`` : scientific notation with ``e`` or ``E``.\n",
      "    \n",
      "        ``f`` : decimal floating point\n",
      "    \n",
      "        ``g,G`` : use the shorter of ``e,E`` or ``f``\n",
      "    \n",
      "        ``o`` : signed octal\n",
      "    \n",
      "        ``s`` : string of characters\n",
      "    \n",
      "        ``u`` : unsigned decimal integer\n",
      "    \n",
      "        ``x,X`` : unsigned hexadecimal integer\n",
      "    \n",
      "    This explanation of ``fmt`` is not complete, for an exhaustive\n",
      "    specification see [1]_.\n",
      "    \n",
      "    References\n",
      "    ----------\n",
      "    .. [1] `Format Specification Mini-Language\n",
      "           <https://docs.python.org/library/string.html#format-specification-mini-language>`_,\n",
      "           Python Documentation.\n",
      "    \n",
      "    Examples\n",
      "    --------\n",
      "    >>> x = y = z = np.arange(0.0,5.0,1.0)\n",
      "    >>> np.savetxt('test.out', x, delimiter=',')   # X is an array\n",
      "    >>> np.savetxt('test.out', (x,y,z))   # x,y,z equal sized 1D arrays\n",
      "    >>> np.savetxt('test.out', x, fmt='%1.4e')   # use exponential notation\n",
      "\n"
     ]
    }
   ],
   "source": [
    "help(np.savetxt)"
   ]
  },
  {
   "cell_type": "markdown",
   "metadata": {},
   "source": [
    "We can see from the above example to save a 2D array into a text file using np.savetxt. The first argument is the file name, second argument is the arr object we wave to save, and the third argument is to define the format for the output (I use ‘%.2f’ to indicate we want the output numbers with 2 decimals). The fourth argument is the header we want to write into the file."
   ]
  },
  {
   "cell_type": "markdown",
   "metadata": {},
   "source": [
    "#### CSV Files\n",
    "There are many scientific data are stored in the comma-separated values (CSV) file format, a delimited text file that uses a comma to separate values. It is a very useful format that can store large tables of data (numbers and text) in plain text. Each line (row) in the data is one data record, and each record consists of one or more fields, separated by commas. It also can be opened using Microsoft Excel, and visualize the rows and columns.\n",
    "\n",
    "Python has its own csv module that could handle the reading and writing of the csv file, you can see the details in the documentation. But we are not going to introduce this csv module here. Instead, we will use the numpy package to deal with the csv file since many times we will read csv file directly to a numpy array.\n",
    "\n"
   ]
  },
  {
   "cell_type": "code",
   "execution_count": 39,
   "metadata": {},
   "outputs": [],
   "source": [
    "# Write and open a CSV file\n",
    "# Let’s see a simple example of generating 100 rows and 5 columns of data.\n",
    "\n",
    "import numpy as np\n",
    "data = np.random.random((100,5))\n",
    "np.savetxt('./CodeOutputs/test.csv', data, fmt = '%.2f', delimiter=',', header = 'c1, c2, c3, c4, c5')"
   ]
  },
  {
   "cell_type": "markdown",
   "metadata": {},
   "source": [
    "We first generate the random data for 100 rows and 5 columns using the np.random function and assign it to data variable. We use the np.savetxt function to save the data to a csv file. We can see that the first 3 arguments are the same for the ones used in the previous section, but here we set the delimiter argument to ‘,’, which indicate that we want to separate the data using comma."
   ]
  },
  {
   "cell_type": "markdown",
   "metadata": {},
   "source": [
    "### Read a CSV file\n",
    "As before, we could read in the csv file using the np.loadtxt function. Let’s read in the csv file we just saved to the disk to a variable my_csv, and output the first 5 rows. Note here we use the delimiter again to specify that the data in the file is separated by commas."
   ]
  },
  {
   "cell_type": "code",
   "execution_count": 41,
   "metadata": {},
   "outputs": [
    {
     "data": {
      "text/plain": [
       "array([[0.31, 0.78, 0.19, 0.93, 0.98],\n",
       "       [0.4 , 0.68, 0.48, 0.24, 0.15],\n",
       "       [0.26, 0.29, 0.15, 0.51, 0.95],\n",
       "       [0.5 , 0.03, 0.15, 0.52, 0.1 ],\n",
       "       [0.33, 0.19, 0.28, 0.78, 0.09],\n",
       "       [0.66, 0.87, 0.95, 0.21, 0.05],\n",
       "       [0.2 , 0.53, 0.21, 0.96, 0.88],\n",
       "       [0.83, 0.61, 0.76, 0.88, 0.44],\n",
       "       [0.37, 0.17, 0.98, 0.12, 0.43],\n",
       "       [0.31, 0.73, 0.46, 0.89, 0.56]])"
      ]
     },
     "execution_count": 41,
     "metadata": {},
     "output_type": "execute_result"
    }
   ],
   "source": [
    "my_csv = np.loadtxt('./CodeOutputs/test.csv', delimiter=',')\n",
    "my_csv[:10, :]"
   ]
  },
  {
   "cell_type": "code",
   "execution_count": 43,
   "metadata": {},
   "outputs": [],
   "source": [
    "file = open(\"./CodeOutputs/testfile.txt\",\"w\") \n",
    " \n",
    "file.write('Hello World\\n') \n",
    "file.write('This is our new text file') \n",
    "file.write('and this is another line.') \n",
    "file.write('Why? Because we can.') \n",
    " \n",
    "file.close() "
   ]
  },
  {
   "cell_type": "code",
   "execution_count": 45,
   "metadata": {},
   "outputs": [
    {
     "name": "stdout",
     "output_type": "stream",
     "text": [
      "Hello World\n",
      "This is our new text fileand this is another line.Why? Because we can.\n"
     ]
    }
   ],
   "source": [
    "file = open('./CodeOutputs/testfile.txt', 'r') \n",
    "print(file.read())"
   ]
  },
  {
   "cell_type": "code",
   "execution_count": 46,
   "metadata": {},
   "outputs": [
    {
     "name": "stdout",
     "output_type": "stream",
     "text": [
      "Hello World\n",
      "\n",
      "This is our new text fileand this is another line.Why? Because we can.\n"
     ]
    }
   ],
   "source": [
    "file = open('./CodeOutputs/testfile.txt', 'r') \n",
    "for line in file:\n",
    "    print(line) "
   ]
  },
  {
   "cell_type": "code",
   "execution_count": 59,
   "metadata": {},
   "outputs": [
    {
     "data": {
      "text/plain": [
       "array([[ 2.95e-04,  2.89e-04,  2.73e-04,  2.50e-04,  2.22e-04],\n",
       "       [ 1.91e-04,  1.59e-04,  1.23e-04,  8.11e-05,  3.01e-05],\n",
       "       [-3.04e-05, -9.93e-05, -1.76e-04, -2.58e-04, -3.45e-04],\n",
       "       ...,\n",
       "       [ 5.94e-04,  5.85e-04,  5.77e-04,  5.69e-04,  5.60e-04],\n",
       "       [ 5.52e-04,  5.43e-04,  5.35e-04,  5.26e-04,  5.17e-04],\n",
       "       [ 5.09e-04,  5.00e-04,  4.91e-04,  4.82e-04,  4.73e-04]])"
      ]
     },
     "execution_count": 59,
     "metadata": {},
     "output_type": "execute_result"
    }
   ],
   "source": [
    "my_acc = np.loadtxt('./CodeOutputs/RSN779_LOMAP_LGP000AT2.csv', delimiter=',', skiprows=4)\n",
    "my_acc[: , :]"
   ]
  },
  {
   "cell_type": "code",
   "execution_count": 55,
   "metadata": {},
   "outputs": [
    {
     "data": {
      "text/plain": [
       "numpy.ndarray"
      ]
     },
     "execution_count": 55,
     "metadata": {},
     "output_type": "execute_result"
    }
   ],
   "source": [
    "type(my_acc)"
   ]
  },
  {
   "cell_type": "code",
   "execution_count": 58,
   "metadata": {},
   "outputs": [
    {
     "data": {
      "text/plain": [
       "1000"
      ]
     },
     "execution_count": 58,
     "metadata": {},
     "output_type": "execute_result"
    }
   ],
   "source": [
    "len(my_acc)"
   ]
  },
  {
   "cell_type": "code",
   "execution_count": 61,
   "metadata": {},
   "outputs": [
    {
     "data": {
      "text/plain": [
       "array([[0.000295],\n",
       "       [0.000289],\n",
       "       [0.000273],\n",
       "       ...,\n",
       "       [0.000491],\n",
       "       [0.000482],\n",
       "       [0.000473]])"
      ]
     },
     "execution_count": 61,
     "metadata": {},
     "output_type": "execute_result"
    }
   ],
   "source": [
    "my_acc = my_acc.reshape(5000,1)\n",
    "my_acc"
   ]
  },
  {
   "cell_type": "code",
   "execution_count": 62,
   "metadata": {},
   "outputs": [
    {
     "data": {
      "text/plain": [
       "5000"
      ]
     },
     "execution_count": 62,
     "metadata": {},
     "output_type": "execute_result"
    }
   ],
   "source": [
    "len(my_acc)"
   ]
  },
  {
   "cell_type": "code",
   "execution_count": 69,
   "metadata": {},
   "outputs": [
    {
     "data": {
      "text/plain": [
       "25.0"
      ]
     },
     "execution_count": 69,
     "metadata": {},
     "output_type": "execute_result"
    }
   ],
   "source": [
    "my_dt = np.arange(0.005, 25.005, 0.005).tolist()\n",
    "my_dt[-1]"
   ]
  },
  {
   "cell_type": "code",
   "execution_count": 70,
   "metadata": {},
   "outputs": [
    {
     "data": {
      "text/plain": [
       "5000"
      ]
     },
     "execution_count": 70,
     "metadata": {},
     "output_type": "execute_result"
    }
   ],
   "source": [
    "len(my_dt)"
   ]
  },
  {
   "cell_type": "code",
   "execution_count": 74,
   "metadata": {},
   "outputs": [
    {
     "data": {
      "image/png": "[encoded data removed]",
      "text/plain": [
       "<Figure size 1008x576 with 1 Axes>"
      ]
     },
     "metadata": {
      "needs_background": "light"
     },
     "output_type": "display_data"
    }
   ],
   "source": [
    "import matplotlib.pyplot as plt\n",
    "plt.figure(figsize = (14, 8))\n",
    "\n",
    "plt.plot(my_dt,my_acc)\n",
    "plt.title('Loma Prieta Accelaration Time History')\n",
    "plt.xlabel('Time(sec)')\n",
    "plt.ylabel('PGA(g)')\n",
    "plt.grid()\n",
    "plt.plot()\n",
    "plt.savefig('./CodeOutputs/LOMAP.png')"
   ]
  }
 ],
 "metadata": {
  "kernelspec": {
   "display_name": "Python 3",
   "language": "python",
   "name": "python3"
  },
  "language_info": {
   "codemirror_mode": {
    "name": "ipython",
    "version": 3
   },
   "file_extension": ".py",
   "mimetype": "text/x-python",
   "name": "python",
   "nbconvert_exporter": "python",
   "pygments_lexer": "ipython3",
   "version": "3.8.5"
  }
 },
 "nbformat": 4,
 "nbformat_minor": 4
}
