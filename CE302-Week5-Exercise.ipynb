{
 "cells": [
  {
   "cell_type": "code",
   "execution_count": 66,
   "metadata": {},
   "outputs": [
    {
     "name": "stdin",
     "output_type": "stream",
     "text": [
      "Bir kelime girin:  Fırat\n"
     ]
    },
    {
     "name": "stdout",
     "output_type": "stream",
     "text": [
      "fırat kelimesinde 2 sesli harf var.\n"
     ]
    }
   ],
   "source": [
    "sesli_harfler = 'aeıioöuü'\n",
    "sayaç = 0\n",
    "\n",
    "kelime = input('Bir kelime girin: ').lower()\n",
    "\n",
    "for harf in kelime:\n",
    "    if harf in sesli_harfler:\n",
    "        sayaç += 1\n",
    "        \n",
    "mesaj = '{} kelimesinde {} sesli harf var.'\n",
    "print(mesaj.format(kelime, sayaç))"
   ]
  },
  {
   "cell_type": "code",
   "execution_count": 67,
   "metadata": {},
   "outputs": [
    {
     "name": "stdin",
     "output_type": "stream",
     "text": [
      "Bir kelime girin:  SesliHarfler\n"
     ]
    },
    {
     "name": "stdout",
     "output_type": "stream",
     "text": [
      "sesliharfler kelimesinde 4 sesli harf var.\n"
     ]
    }
   ],
   "source": [
    "# Açıklamasını yaz\n",
    "\n",
    "sesli_harfler = 'aeıioöuü'\n",
    "sayaç = 0\n",
    "\n",
    "kelime = input('Bir kelime girin: ').lower()\n",
    "\n",
    "def seslidir(harf):\n",
    "    return harf in sesli_harfler\n",
    "\n",
    "for harf in kelime:\n",
    "    if harf in sesli_harfler:\n",
    "        sayaç += 1\n",
    "        \n",
    "mesaj = '{} kelimesinde {} sesli harf var.'\n",
    "print(mesaj.format(kelime, sayaç))"
   ]
  },
  {
   "cell_type": "code",
   "execution_count": 70,
   "metadata": {},
   "outputs": [
    {
     "data": {
      "text/plain": [
       "True"
      ]
     },
     "execution_count": 70,
     "metadata": {},
     "output_type": "execute_result"
    }
   ],
   "source": [
    "seslidir('e')\n"
   ]
  },
  {
   "cell_type": "code",
   "execution_count": 33,
   "metadata": {},
   "outputs": [
    {
     "data": {
      "text/plain": [
       "False"
      ]
     },
     "execution_count": 33,
     "metadata": {},
     "output_type": "execute_result"
    }
   ],
   "source": [
    "seslidir('b')"
   ]
  },
  {
   "cell_type": "code",
   "execution_count": 71,
   "metadata": {},
   "outputs": [
    {
     "name": "stdin",
     "output_type": "stream",
     "text": [
      "Bir kelime girin:  Ali\n"
     ]
    },
    {
     "name": "stdout",
     "output_type": "stream",
     "text": [
      "ali kelimesinde 2 sesli harf var.\n"
     ]
    }
   ],
   "source": [
    "sesli_harfler = 'aeıioöuü'\n",
    "sayaç = 0\n",
    "kelime = input('Bir kelime girin: ').lower()\n",
    "\n",
    "def seslidir(harf):\n",
    "    return harf in sesli_harfler\n",
    "\n",
    "def artır(n):\n",
    "    for harf in kelime:\n",
    "        if seslidir(harf):\n",
    "            n += 1\n",
    "    return n\n",
    "\n",
    "mesaj = '{} kelimesinde {} sesli harf var.'\n",
    "print(mesaj.format(kelime, artır(sayaç)))"
   ]
  },
  {
   "cell_type": "code",
   "execution_count": 72,
   "metadata": {},
   "outputs": [
    {
     "name": "stdin",
     "output_type": "stream",
     "text": [
      "Bir kelime girin:  AdvancePrograming\n"
     ]
    },
    {
     "name": "stdout",
     "output_type": "stream",
     "text": [
      "AdvancePrograming kelimesinde 5 sesli harf var.\n"
     ]
    }
   ],
   "source": [
    "sesli_harfler = 'aeıioöuü'\n",
    "sayaç = 0\n",
    "\n",
    "def kelime_sor():\n",
    "    return input('Bir kelime girin: ')\n",
    "\n",
    "def seslidir(harf):\n",
    "    return harf in sesli_harfler\n",
    "\n",
    "def artır(sayaç, kelime):\n",
    "    for harf in kelime:\n",
    "        if seslidir(harf):\n",
    "            sayaç += 1\n",
    "    return sayaç\n",
    "\n",
    "def ekrana_bas(kelime):\n",
    "    mesaj = \"{} kelimesinde {} sesli harf var.\"\n",
    "    print(mesaj.format(kelime, artır(sayaç, kelime)))\n",
    "    \n",
    "def çalıştır():\n",
    "    kelime = kelime_sor()\n",
    "    ekrana_bas(kelime)\n",
    "    \n",
    "çalıştır()"
   ]
  },
  {
   "cell_type": "code",
   "execution_count": 56,
   "metadata": {},
   "outputs": [
    {
     "name": "stdin",
     "output_type": "stream",
     "text": [
      "Bir kelime girin:  AklımdakiKelimeler\n"
     ]
    },
    {
     "name": "stdout",
     "output_type": "stream",
     "text": [
      "AklımdakiKelimeler kelimesinde 7 sesli 9 sessiz harf var.\n"
     ]
    }
   ],
   "source": [
    "class HarfSayacı:\n",
    "    \n",
    "    def __init__(self):\n",
    "        self.sesli_harfler = 'aeıioöuü'\n",
    "        self.sessiz_harfler = 'bcçdfgğhjklmnprsştvyz'\n",
    "        self.sayaç_sesli = 0\n",
    "        self.sayaç_sessiz = 0\n",
    "    \n",
    "    def kelime_sor(self):\n",
    "        return input('Bir kelime girin: ')\n",
    "    def seslidir(self, harf):\n",
    "        return harf in self.sesli_harfler\n",
    "    def sessizdir(self, harf):\n",
    "        return harf in self.sessiz_harfler\n",
    "    def artır(self):\n",
    "        for harf in self.kelime:\n",
    "            if self.seslidir(harf):\n",
    "                self.sayaç_sesli += 1\n",
    "            if self.sessizdir(harf):\n",
    "                self.sayaç_sessiz += 1\n",
    "        return (self.sayaç_sesli, self.sayaç_sessiz)\n",
    "    def ekrana_bas(self):\n",
    "        sesli, sessiz = self.artır()\n",
    "        mesaj = \"{} kelimesinde {} sesli {} sessiz harf var.\"\n",
    "        print(mesaj.format(self.kelime, sesli, sessiz))\n",
    "\n",
    "    def çalıştır(self):\n",
    "        self.kelime = self.kelime_sor()\n",
    "        self.ekrana_bas()\n",
    "        \n",
    "if __name__ == '__main__':\n",
    "    sayaç = HarfSayacı()\n",
    "    sayaç.çalıştır()\n"
   ]
  },
  {
   "cell_type": "code",
   "execution_count": 42,
   "metadata": {},
   "outputs": [],
   "source": [
    "## Defining a Class\n",
    "\n",
    "class Çalışan:\n",
    "    pass"
   ]
  },
  {
   "cell_type": "code",
   "execution_count": 43,
   "metadata": {},
   "outputs": [],
   "source": [
    "## Defining a Class\n",
    "\n",
    "class ÇalışanSınıfı():\n",
    "    pass"
   ]
  },
  {
   "cell_type": "code",
   "execution_count": null,
   "metadata": {},
   "outputs": [],
   "source": [
    "### Quality of Class\n",
    "class Çalışan():\n",
    "    kabiliyetleri = []\n",
    "    unvanı = 'işçi'\n",
    "# kabiliyet, unvan: Class Attribute"
   ]
  },
  {
   "cell_type": "code",
   "execution_count": 44,
   "metadata": {},
   "outputs": [],
   "source": [
    "def çalışan():\n",
    "    kabiliyetleri = []\n",
    "    unvanı = 'işçi'\n",
    "    \n",
    "    print(kabiliyetleri)\n",
    "    print(unvanı)"
   ]
  },
  {
   "cell_type": "code",
   "execution_count": 45,
   "metadata": {},
   "outputs": [
    {
     "name": "stdout",
     "output_type": "stream",
     "text": [
      "[]\n",
      "işçi\n"
     ]
    }
   ],
   "source": [
    "çalışan()"
   ]
  },
  {
   "cell_type": "code",
   "execution_count": 48,
   "metadata": {},
   "outputs": [
    {
     "name": "stdout",
     "output_type": "stream",
     "text": [
      "['Yetenekli, Sadık, Tecrübe Sahibi']\n",
      "Kalifiye Çalışan\n"
     ]
    }
   ],
   "source": [
    "class Çalışan():\n",
    "    kabiliyetleri = [\"Yetenekli, Sadık, Tecrübe Sahibi\"]\n",
    "    unvanı = 'Kalifiye Çalışan'\n",
    "    \n",
    "    print(kabiliyetleri)\n",
    "    print(unvanı)"
   ]
  },
  {
   "cell_type": "code",
   "execution_count": 49,
   "metadata": {},
   "outputs": [
    {
     "name": "stdout",
     "output_type": "stream",
     "text": [
      "['Yetenekli, Sadık, Tecrübe Sahibi']\n",
      "Kalifiye Çalışan\n"
     ]
    }
   ],
   "source": [
    "class Çalışan():\n",
    "    kabiliyetleri = [\"Yetenekli, Sadık, Tecrübe Sahibi\"]\n",
    "    unvanı = 'Kalifiye Çalışan'\n",
    "\n",
    "print(Çalışan.kabiliyetleri)\n",
    "print(Çalışan.unvanı)"
   ]
  },
  {
   "cell_type": "code",
   "execution_count": 50,
   "metadata": {},
   "outputs": [
    {
     "name": "stdout",
     "output_type": "stream",
     "text": [
      "['Yetenekli, Sadık, Tecrübe Sahibi']\n",
      "Kalifiye Çalışan\n",
      "\n",
      "\n"
     ]
    }
   ],
   "source": [
    "class Çalışan():\n",
    "    kabiliyetleri = [\"Yetenekli, Sadık, Tecrübe Sahibi\"]\n",
    "    unvanı = 'Kalifiye Çalışan'\n",
    "    maaşı = 1500\n",
    "    memleketi = ''\n",
    "    doğum_tarihi = ''\n",
    "\n",
    "print(Çalışan.kabiliyetleri)\n",
    "print(Çalışan.unvanı)\n",
    "print(Çalışan.memleketi)\n",
    "print(Çalışan.doğum_tarihi)"
   ]
  },
  {
   "cell_type": "code",
   "execution_count": 54,
   "metadata": {},
   "outputs": [],
   "source": [
    "class Çalışan():\n",
    "    kabiliyetleri = []\n",
    "    unvanı = 'işçi'\n",
    "    maaşı = 1500\n",
    "    memleketi = ''\n",
    "    doğum_tarihi = ''\n",
    "\n",
    "Doğu = Çalışan() #örneklendirme.. (instantiation)\n",
    "\n"
   ]
  },
  {
   "cell_type": "code",
   "execution_count": null,
   "metadata": {},
   "outputs": [],
   "source": [
    "class Asker():\n",
    "    rütbesi = 'Er'\n",
    "    standart_teçhizat = ['G3', 'kasatura', 'süngü', 'el bombası']\n",
    "    gücü = 60\n",
    "    birliği = ''\n",
    "\n",
    "Mehmet = Asker()    "
   ]
  },
  {
   "cell_type": "code",
   "execution_count": 55,
   "metadata": {},
   "outputs": [],
   "source": [
    "class Sipariş():\n",
    "    firma = ''\n",
    "    miktar = 0\n",
    "    sipariş_tarihi = ''\n",
    "    teslim_tarihi = ''\n",
    "    stok_adedi = 0\n",
    "\n",
    "Şampuan = Sipariş()"
   ]
  },
  {
   "cell_type": "markdown",
   "metadata": {},
   "source": [
    "Burada class, sınıfı tanımlamamıza yarayan bir öğedir. Tıpkı fonksiyonlardaki def gibi, sınıﬂarı\n",
    "tanımlamak için de class adlı bir parçacığı kullanıyoruz.\n",
    "\n",
    "Sipariş ise, sınıfımızın adı oluyor. Biz sınıfımızın adını parantezli veya parantezsiz olarak\n",
    "kullanma imkanına sahibiz.\n",
    "\n",
    "Sınıfın gövdesinde tanımladığımız şu değişkenler birer sınıf niteliğidir (class atribute )"
   ]
  },
  {
   "cell_type": "markdown",
   "metadata": {},
   "source": [
    "Şampuan = Sipariş() komutunu verdiğimizde ise, biraz önce tanımladığımız sınıfı örnekleyip\n",
    "(instantiation ), bunu Şampuan adlı bir örneğe (instance ) atamış oluyoruz. Yani Şampuan, Sipariş() adlı\n",
    "sınıfın bir örneği olmuş oluyor. Bir sınıftan istediğimiz sayıda örnek çıkarabiliriz:\n",
    "\n",
    "- kalem = Sipariş()\n",
    "- pergel = Sipariş()\n",
    "- çikolata = Sipariş()\n",
    "\n",
    "\n",
    "\n",
    "\n",
    "Bu şekilde Sipariş() sınıfını üç kez örneklemiş, yani bu sınıfın bütün özelliklerini taşıyan üç\n",
    "farklı üye meydana getirmiş oluyoruz.\n",
    "\n",
    "Bu sınıf örneklerini kullanarak, ilgili sınıfın niteliklerine (attribute ) erişebiliriz:"
   ]
  },
  {
   "cell_type": "code",
   "execution_count": 57,
   "metadata": {},
   "outputs": [
    {
     "data": {
      "text/plain": [
       "0"
      ]
     },
     "execution_count": 57,
     "metadata": {},
     "output_type": "execute_result"
    }
   ],
   "source": [
    "kalem = Sipariş()\n",
    "kalem.firma\n",
    "kalem.miktar\n",
    "kalem.sipariş_tarihi\n",
    "kalem.teslim_tarihi\n",
    "kalem.stok_adedi"
   ]
  },
  {
   "cell_type": "code",
   "execution_count": 58,
   "metadata": {},
   "outputs": [],
   "source": [
    "class Sipariş():\n",
    "    firma = ''\n",
    "    miktar = 0\n",
    "    sipariş_tarihi = ''\n",
    "    teslim_tarihi = ''\n",
    "    stok_adedi = 0\n",
    "    \n"
   ]
  },
  {
   "cell_type": "code",
   "execution_count": 60,
   "metadata": {},
   "outputs": [
    {
     "data": {
      "text/plain": [
       "['Sipariş',\n",
       " '__builtins__',\n",
       " '__cached__',\n",
       " '__doc__',\n",
       " '__file__',\n",
       " '__loader__',\n",
       " '__name__',\n",
       " '__package__',\n",
       " '__spec__']"
      ]
     },
     "execution_count": 60,
     "metadata": {},
     "output_type": "execute_result"
    }
   ],
   "source": [
    "import siparis\n",
    "dir(siparis)"
   ]
  },
  {
   "cell_type": "markdown",
   "metadata": {},
   "source": [
    "Sipariş() adlı sınıfı listenin en başında görebilirsiniz. O halde gelin bu sınıfı örnekleyerek\n",
    "kullanılabilir hale getirelim:\n",
    "\n",
    "\n"
   ]
  },
  {
   "cell_type": "code",
   "execution_count": 62,
   "metadata": {},
   "outputs": [],
   "source": [
    "gofret = siparis.Sipariş()"
   ]
  },
  {
   "cell_type": "code",
   "execution_count": 63,
   "metadata": {},
   "outputs": [
    {
     "data": {
      "text/plain": [
       "['__class__',\n",
       " '__delattr__',\n",
       " '__dict__',\n",
       " '__dir__',\n",
       " '__doc__',\n",
       " '__eq__',\n",
       " '__format__',\n",
       " '__ge__',\n",
       " '__getattribute__',\n",
       " '__gt__',\n",
       " '__hash__',\n",
       " '__init__',\n",
       " '__init_subclass__',\n",
       " '__le__',\n",
       " '__lt__',\n",
       " '__module__',\n",
       " '__ne__',\n",
       " '__new__',\n",
       " '__reduce__',\n",
       " '__reduce_ex__',\n",
       " '__repr__',\n",
       " '__setattr__',\n",
       " '__sizeof__',\n",
       " '__str__',\n",
       " '__subclasshook__',\n",
       " '__weakref__',\n",
       " 'firma',\n",
       " 'miktar',\n",
       " 'sipariş_tarihi',\n",
       " 'stok_adedi',\n",
       " 'teslim_tarihi']"
      ]
     },
     "execution_count": 63,
     "metadata": {},
     "output_type": "execute_result"
    }
   ],
   "source": [
    "dir(gofret)"
   ]
  },
  {
   "cell_type": "markdown",
   "metadata": {},
   "source": [
    "#### Örnek Nitelikleri (instance attributes )\n",
    "\n",
    "**Şimdiye kadar öğrendiklerimiz, sınıﬂarla faydalı işler yapmamız için pek yeterli değildi. Sınıﬂar\n",
    "konusunda ufkumuzun genişleyebilmesi için, sınıf niteliklerinin (class attributes ) yanısıra,\n",
    "nesne tabanlı programlamanın önemli bir parçası olan örnek niteliklerinden (instance\n",
    "attributes ) de söz etmemiz gerekiyor. Hem örnek niteliklerini öğrendikten sonra, bunların\n",
    "sınıf nitelikleri ile arasındaki farkları görünce sınıf niteliklerini de çok daha iyi anlamış\n",
    "olacaksınız.**"
   ]
  },
  {
   "cell_type": "markdown",
   "metadata": {},
   "source": [
    "#### __init__ Fonksiyonu ve self\n",
    "\n",
    "Python’da sınıf niteliklerini tanımlamak için yapmamız gereken tek şey, sınıf\n",
    "tanımının hemen altına bunları alelade birer değişken gibi yazmaktan ibarettir:"
   ]
  },
  {
   "cell_type": "code",
   "execution_count": 64,
   "metadata": {},
   "outputs": [],
   "source": [
    "class Sınıf():\n",
    "    sınıf_niteliği1 = 0\n",
    "    sınıf_niteliği2 = 1"
   ]
  },
  {
   "cell_type": "markdown",
   "metadata": {},
   "source": [
    "Örnek niteliklerini tanımlamak için ise iki yardımcı araca ihtiyacımız var:\n",
    "__init__() fonksiyonu ** ve **self**\n",
    "\n",
    "Bu iki aracı şu şekilde kullanıyoruz"
   ]
  },
  {
   "cell_type": "code",
   "execution_count": null,
   "metadata": {},
   "outputs": [],
   "source": []
  }
 ],
 "metadata": {
  "kernelspec": {
   "display_name": "Python 3",
   "language": "python",
   "name": "python3"
  },
  "language_info": {
   "codemirror_mode": {
    "name": "ipython",
    "version": 3
   },
   "file_extension": ".py",
   "mimetype": "text/x-python",
   "name": "python",
   "nbconvert_exporter": "python",
   "pygments_lexer": "ipython3",
   "version": "3.8.5"
  }
 },
 "nbformat": 4,
 "nbformat_minor": 4
}
